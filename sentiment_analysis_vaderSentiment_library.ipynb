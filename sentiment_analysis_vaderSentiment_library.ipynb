{
 "cells": [
  {
   "cell_type": "markdown",
   "id": "2035243f",
   "metadata": {},
   "source": [
    "### 1. Prepare your workstation"
   ]
  },
  {
   "cell_type": "code",
   "execution_count": 1,
   "id": "4d7aa1a3",
   "metadata": {},
   "outputs": [
    {
     "name": "stdout",
     "output_type": "stream",
     "text": [
      "Collecting vaderSentiment\n",
      "  Downloading vaderSentiment-3.3.2-py2.py3-none-any.whl (125 kB)\n",
      "\u001b[2K     \u001b[90m━━━━━━━━━━━━━━━━━━━━━━━━━━━━━━━━━━━━━━━\u001b[0m \u001b[32m126.0/126.0 kB\u001b[0m \u001b[31m3.3 MB/s\u001b[0m eta \u001b[36m0:00:00\u001b[0m\n",
      "\u001b[?25hRequirement already satisfied: requests in /Users/adeola/anaconda3/lib/python3.11/site-packages (from vaderSentiment) (2.31.0)\n",
      "Requirement already satisfied: charset-normalizer<4,>=2 in /Users/adeola/anaconda3/lib/python3.11/site-packages (from requests->vaderSentiment) (2.0.4)\n",
      "Requirement already satisfied: idna<4,>=2.5 in /Users/adeola/anaconda3/lib/python3.11/site-packages (from requests->vaderSentiment) (3.4)\n",
      "Requirement already satisfied: urllib3<3,>=1.21.1 in /Users/adeola/anaconda3/lib/python3.11/site-packages (from requests->vaderSentiment) (1.26.18)\n",
      "Requirement already satisfied: certifi>=2017.4.17 in /Users/adeola/anaconda3/lib/python3.11/site-packages (from requests->vaderSentiment) (2023.11.17)\n",
      "Installing collected packages: vaderSentiment\n",
      "Successfully installed vaderSentiment-3.3.2\n"
     ]
    }
   ],
   "source": [
    "# Install vaderSentiment tool.\n",
    "!pip install vaderSentiment\n",
    "\n",
    "# Import the necessary class.\n",
    "from vaderSentiment.vaderSentiment import SentimentIntensityAnalyzer\n",
    "\n",
    "# Create an object from the class.\n",
    "sia = SentimentIntensityAnalyzer()"
   ]
  },
  {
   "cell_type": "markdown",
   "id": "48d2871b",
   "metadata": {},
   "source": [
    "### 2. Import the data"
   ]
  },
  {
   "cell_type": "code",
   "execution_count": 3,
   "id": "09d6c6d3",
   "metadata": {},
   "outputs": [],
   "source": [
    "# Define the input data.\n",
    "sentences = [\n",
    " \"Excellent customer service. Also loved the amazing showroom where you can get a real feel of the top quality furniture and get inspiration for room designs.\",\n",
    " \"I found the sales person to be quite rude and stuck up... don't think she realised I know all the suppliers she uses. I got the sofa & chair elsewhere. I will not be coming back.\",\n",
    " \"Thank you for finding replacement crystals for my chandelier.\",\n",
    " \"I have worked with the team in several houses. All work was carried out on time and to budget.\"]"
   ]
  },
  {
   "cell_type": "markdown",
   "id": "fbbae5f1",
   "metadata": {},
   "source": [
    "### 3. Apply sentiment analysis"
   ]
  },
  {
   "cell_type": "code",
   "execution_count": 4,
   "id": "6029d69b",
   "metadata": {},
   "outputs": [
    {
     "name": "stdout",
     "output_type": "stream",
     "text": [
      "The sentiment value of the sentence :\"Excellent customer service. Also loved the amazing showroom where you can get a real feel of the top quality furniture and get inspiration for room designs.\" is : 0.9485\n",
      "==================================================\n",
      "The sentiment value of the sentence :\"I found the sales person to be quite rude and stuck up... don't think she realised I know all the suppliers she uses. I got the sofa & chair elsewhere. I will not be coming back.\" is : -0.6764\n",
      "==================================================\n",
      "The sentiment value of the sentence :\"Thank you for finding replacement crystals for my chandelier.\" is : 0.3612\n",
      "==================================================\n",
      "The sentiment value of the sentence :\"I have worked with the team in several houses. All work was carried out on time and to budget.\" is : 0.0\n",
      "==================================================\n"
     ]
    }
   ],
   "source": [
    "# Apply sentiment analysis.\n",
    "for sentence in sentences:\n",
    " score = sia.polarity_scores(sentence)['compound']\n",
    " print(f'The sentiment value of the sentence :\"{sentence}\" is : {score}')\n",
    " # If you insert this line of code, you will have a line break between the outputs.\n",
    " print(\"=\"*50)"
   ]
  },
  {
   "cell_type": "markdown",
   "id": "9d6a1bd1",
   "metadata": {},
   "source": [
    "### 4. Calculate the output"
   ]
  },
  {
   "cell_type": "code",
   "execution_count": 5,
   "id": "298163d5",
   "metadata": {},
   "outputs": [
    {
     "name": "stdout",
     "output_type": "stream",
     "text": [
      "For the sentence \"Excellent customer service. Also loved the amazing showroom where you can get a real feel of the top quality furniture and get inspiration for room designs.\"\n",
      "The percentage of positive sentiment in :\"Excellent customer service. Also loved the amazing showroom where you can get a real feel of the top quality furniture and get inspiration for room designs.\" is : 44.1 %\n",
      "The percentage of neutral sentiment in :\"Excellent customer service. Also loved the amazing showroom where you can get a real feel of the top quality furniture and get inspiration for room designs.\" is : 55.9 %\n",
      "The percentage of negative sentiment in :\"Excellent customer service. Also loved the amazing showroom where you can get a real feel of the top quality furniture and get inspiration for room designs.\" is : 0.0 %\n",
      "==================================================\n",
      "For the sentence \"I found the sales person to be quite rude and stuck up... don't think she realised I know all the suppliers she uses. I got the sofa & chair elsewhere. I will not be coming back.\"\n",
      "The percentage of positive sentiment in :\"I found the sales person to be quite rude and stuck up... don't think she realised I know all the suppliers she uses. I got the sofa & chair elsewhere. I will not be coming back.\" is : 0.0 %\n",
      "The percentage of neutral sentiment in :\"I found the sales person to be quite rude and stuck up... don't think she realised I know all the suppliers she uses. I got the sofa & chair elsewhere. I will not be coming back.\" is : 86.0 %\n",
      "The percentage of negative sentiment in :\"I found the sales person to be quite rude and stuck up... don't think she realised I know all the suppliers she uses. I got the sofa & chair elsewhere. I will not be coming back.\" is : 14.0 %\n",
      "==================================================\n",
      "For the sentence \"Thank you for finding replacement crystals for my chandelier.\"\n",
      "The percentage of positive sentiment in :\"Thank you for finding replacement crystals for my chandelier.\" is : 23.8 %\n",
      "The percentage of neutral sentiment in :\"Thank you for finding replacement crystals for my chandelier.\" is : 76.2 %\n",
      "The percentage of negative sentiment in :\"Thank you for finding replacement crystals for my chandelier.\" is : 0.0 %\n",
      "==================================================\n",
      "For the sentence \"I have worked with the team in several houses. All work was carried out on time and to budget.\"\n",
      "The percentage of positive sentiment in :\"I have worked with the team in several houses. All work was carried out on time and to budget.\" is : 0.0 %\n",
      "The percentage of neutral sentiment in :\"I have worked with the team in several houses. All work was carried out on time and to budget.\" is : 100.0 %\n",
      "The percentage of negative sentiment in :\"I have worked with the team in several houses. All work was carried out on time and to budget.\" is : 0.0 %\n",
      "==================================================\n"
     ]
    }
   ],
   "source": [
    "# Calculate the percentage of the output.\n",
    "for sentence in sentences:\n",
    " print(f'For the sentence \"{sentence}\"')\n",
    " # Calculate the scores.\n",
    " polarity = sia.polarity_scores(sentence)\n",
    " pos = polarity['pos']\n",
    " neu = polarity['neu']\n",
    " neg = polarity['neg']\n",
    " \n",
    " # Display the scores.\n",
    " print(f'The percentage of positive sentiment in :\"{sentence}\" is : {round(pos*100,2)} %')\n",
    " print(f'The percentage of neutral sentiment in :\"{sentence}\" is : {round(neu*100,2)} %')\n",
    " print(f'The percentage of negative sentiment in :\"{sentence}\" is : {round(neg*100,2)} %')\n",
    " print(\"=\"*50)"
   ]
  },
  {
   "cell_type": "markdown",
   "id": "19fcc03f",
   "metadata": {},
   "source": [
    "## Conclusion"
   ]
  },
  {
   "cell_type": "markdown",
   "id": "95c80b0b",
   "metadata": {},
   "source": [
    "Ccontext is very important when you determine whether the output provided by Python is correct. \n",
    "In essence, you have to consider the statements and your own subjective opinion\n",
    "\n",
    "Although Python indicated the sentiment as neutral (55.9%), \n",
    "it leaned more towards a positive (44.1%) than a negative (0.0%) sentiment. \n",
    "An overall sentiment of 0.9485 is very close to 1. \n",
    "If we look at the sentence, it seems like a positive customer review based on the following words: \n",
    "excellent, amazing, real feel, and top quality. "
   ]
  },
  {
   "cell_type": "code",
   "execution_count": null,
   "id": "ee724d46",
   "metadata": {},
   "outputs": [],
   "source": []
  }
 ],
 "metadata": {
  "kernelspec": {
   "display_name": "Python 3 (ipykernel)",
   "language": "python",
   "name": "python3"
  },
  "language_info": {
   "codemirror_mode": {
    "name": "ipython",
    "version": 3
   },
   "file_extension": ".py",
   "mimetype": "text/x-python",
   "name": "python",
   "nbconvert_exporter": "python",
   "pygments_lexer": "ipython3",
   "version": "3.11.6"
  }
 },
 "nbformat": 4,
 "nbformat_minor": 5
}
